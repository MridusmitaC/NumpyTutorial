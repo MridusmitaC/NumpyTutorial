{
  "metadata": {
    "kernelspec": {
      "name": "python",
      "display_name": "Python (Pyodide)",
      "language": "python"
    },
    "language_info": {
      "codemirror_mode": {
        "name": "python",
        "version": 3
      },
      "file_extension": ".py",
      "mimetype": "text/x-python",
      "name": "python",
      "nbconvert_exporter": "python",
      "pygments_lexer": "ipython3",
      "version": "3.8"
    }
  },
  "nbformat_minor": 5,
  "nbformat": 4,
  "cells": [
    {
      "cell_type": "code",
      "source": "import numpy as np\n",
      "metadata": {
        "trusted": true
      },
      "execution_count": 3,
      "outputs": [],
      "id": "f9d23b0a-1b58-4ae1-87c3-c431d061e67b"
    },
    {
      "cell_type": "code",
      "source": "print(\"hello\")",
      "metadata": {
        "trusted": true
      },
      "execution_count": 2,
      "outputs": [
        {
          "name": "stdout",
          "text": "hello\n",
          "output_type": "stream"
        }
      ],
      "id": "a7992af7-bf38-4f39-80c2-fb6cc4cd8b33"
    },
    {
      "cell_type": "code",
      "source": "myarr=np.array([[1,23,34]])",
      "metadata": {
        "trusted": true
      },
      "execution_count": 4,
      "outputs": [],
      "id": "c45dd988-8b3d-4836-b31c-44cfcc5d9a73"
    },
    {
      "cell_type": "code",
      "source": "myarr[0,1]",
      "metadata": {
        "trusted": true
      },
      "execution_count": 5,
      "outputs": [
        {
          "execution_count": 5,
          "output_type": "execute_result",
          "data": {
            "text/plain": "23"
          },
          "metadata": {}
        }
      ],
      "id": "c09e4273-af43-4648-86cf-181b5e3abe49"
    },
    {
      "cell_type": "code",
      "source": "myarr.shape",
      "metadata": {
        "trusted": true
      },
      "execution_count": 6,
      "outputs": [
        {
          "execution_count": 6,
          "output_type": "execute_result",
          "data": {
            "text/plain": "(1, 3)"
          },
          "metadata": {}
        }
      ],
      "id": "ea18ac41-6f64-41c5-8fe3-9e5990b49c62"
    },
    {
      "cell_type": "code",
      "source": "myarr.dtype",
      "metadata": {
        "trusted": true
      },
      "execution_count": 7,
      "outputs": [
        {
          "execution_count": 7,
          "output_type": "execute_result",
          "data": {
            "text/plain": "dtype('int32')"
          },
          "metadata": {}
        }
      ],
      "id": "f28e8f7a-87f0-46b6-8a1e-e20c9b9ffdd4"
    },
    {
      "cell_type": "code",
      "source": "myarr[0,1]",
      "metadata": {
        "trusted": true
      },
      "execution_count": 8,
      "outputs": [
        {
          "execution_count": 8,
          "output_type": "execute_result",
          "data": {
            "text/plain": "23"
          },
          "metadata": {}
        }
      ],
      "id": "3022a46d-c235-4afd-875f-a36a6ecfb906"
    },
    {
      "cell_type": "code",
      "source": "myarr[0,1]=45",
      "metadata": {
        "trusted": true
      },
      "execution_count": 9,
      "outputs": [],
      "id": "cecfbb7d-679e-4dcb-b32c-d65e31f2add1"
    },
    {
      "cell_type": "code",
      "source": "myarr",
      "metadata": {
        "trusted": true
      },
      "execution_count": 10,
      "outputs": [
        {
          "execution_count": 10,
          "output_type": "execute_result",
          "data": {
            "text/plain": "array([[ 1, 45, 34]])"
          },
          "metadata": {}
        }
      ],
      "id": "471bf5c7-cd4c-458b-86cd-b3350e37f9ca"
    },
    {
      "cell_type": "markdown",
      "source": "#**array creation**#",
      "metadata": {},
      "id": "dc972719-68a8-4d54-b2be-ec03aa6d7948"
    },
    {
      "cell_type": "code",
      "source": "listarray=np.array([[1,2,3],[4,5,6],[7,8,9]])",
      "metadata": {
        "trusted": true
      },
      "execution_count": 11,
      "outputs": [],
      "id": "d07d37b1-fd1f-419d-873d-dfe582c6c501"
    },
    {
      "cell_type": "code",
      "source": "listarray",
      "metadata": {
        "trusted": true
      },
      "execution_count": 12,
      "outputs": [
        {
          "execution_count": 12,
          "output_type": "execute_result",
          "data": {
            "text/plain": "array([[1, 2, 3],\n       [4, 5, 6],\n       [7, 8, 9]])"
          },
          "metadata": {}
        }
      ],
      "id": "9ff6edea-e11e-4619-a505-0bc7f2566a27"
    },
    {
      "cell_type": "code",
      "source": "listarray.shape",
      "metadata": {
        "trusted": true
      },
      "execution_count": 13,
      "outputs": [
        {
          "execution_count": 13,
          "output_type": "execute_result",
          "data": {
            "text/plain": "(3, 3)"
          },
          "metadata": {}
        }
      ],
      "id": "23fd130c-08d4-4d98-a5a1-f83627cae6a1"
    },
    {
      "cell_type": "code",
      "source": "listarray.size",
      "metadata": {
        "trusted": true
      },
      "execution_count": 14,
      "outputs": [
        {
          "execution_count": 14,
          "output_type": "execute_result",
          "data": {
            "text/plain": "9"
          },
          "metadata": {}
        }
      ],
      "id": "31262b95-2f1f-4780-ac4e-ae2efafa3a33"
    },
    {
      "cell_type": "code",
      "source": "np.array({12,23,23})",
      "metadata": {
        "trusted": true
      },
      "execution_count": 17,
      "outputs": [
        {
          "execution_count": 17,
          "output_type": "execute_result",
          "data": {
            "text/plain": "array({12, 23}, dtype=object)"
          },
          "metadata": {}
        }
      ],
      "id": "d8cb5c04-cc9b-4dff-89fe-a54f0c9df7ee"
    },
    {
      "cell_type": "code",
      "source": "zeros=np.zeros((2,5))",
      "metadata": {
        "trusted": true
      },
      "execution_count": 18,
      "outputs": [],
      "id": "6d1a1dc9-0968-4fe4-a6ca-afb11f22150d"
    },
    {
      "cell_type": "code",
      "source": "zeros",
      "metadata": {
        "trusted": true
      },
      "execution_count": 19,
      "outputs": [
        {
          "execution_count": 19,
          "output_type": "execute_result",
          "data": {
            "text/plain": "array([[0., 0., 0., 0., 0.],\n       [0., 0., 0., 0., 0.]])"
          },
          "metadata": {}
        }
      ],
      "id": "3808979f-b071-4493-adc3-42a380ac3141"
    },
    {
      "cell_type": "code",
      "source": "zeros.shape",
      "metadata": {
        "trusted": true
      },
      "execution_count": 20,
      "outputs": [
        {
          "execution_count": 20,
          "output_type": "execute_result",
          "data": {
            "text/plain": "(2, 5)"
          },
          "metadata": {}
        }
      ],
      "id": "99c08533-dd62-49b4-b13a-0604083f1c57"
    },
    {
      "cell_type": "code",
      "source": "rng=np.arange(15)",
      "metadata": {
        "trusted": true
      },
      "execution_count": 21,
      "outputs": [],
      "id": "91bdaad6-abee-41f4-a236-76c0691b5e82"
    },
    {
      "cell_type": "code",
      "source": "rng",
      "metadata": {
        "trusted": true
      },
      "execution_count": 22,
      "outputs": [
        {
          "execution_count": 22,
          "output_type": "execute_result",
          "data": {
            "text/plain": "array([ 0,  1,  2,  3,  4,  5,  6,  7,  8,  9, 10, 11, 12, 13, 14])"
          },
          "metadata": {}
        }
      ],
      "id": "05247b03-3f9f-43cb-b111-ee45cb4ea950"
    },
    {
      "cell_type": "code",
      "source": "lnspace=np.linspace(1,5,12)",
      "metadata": {
        "trusted": true
      },
      "execution_count": 23,
      "outputs": [],
      "id": "a0538308-8640-4a1d-bc4d-b3a800774085"
    },
    {
      "cell_type": "code",
      "source": "lnspace",
      "metadata": {
        "trusted": true
      },
      "execution_count": 24,
      "outputs": [
        {
          "execution_count": 24,
          "output_type": "execute_result",
          "data": {
            "text/plain": "array([1.        , 1.36363636, 1.72727273, 2.09090909, 2.45454545,\n       2.81818182, 3.18181818, 3.54545455, 3.90909091, 4.27272727,\n       4.63636364, 5.        ])"
          },
          "metadata": {}
        }
      ],
      "id": "75483d57-d649-4f47-9768-084051ca12c8"
    },
    {
      "cell_type": "code",
      "source": "lnspace1=np.linspace(1,4,4)",
      "metadata": {
        "trusted": true
      },
      "execution_count": 25,
      "outputs": [],
      "id": "a7125ea7-93f1-4bad-ba45-4ae4e5e09b6f"
    },
    {
      "cell_type": "code",
      "source": "lnspace1",
      "metadata": {
        "trusted": true
      },
      "execution_count": 26,
      "outputs": [
        {
          "execution_count": 26,
          "output_type": "execute_result",
          "data": {
            "text/plain": "array([1., 2., 3., 4.])"
          },
          "metadata": {}
        }
      ],
      "id": "2c906ce1-9fc8-4859-9b4b-521b750df770"
    },
    {
      "cell_type": "code",
      "source": "emp=np.empty((4,6))",
      "metadata": {
        "trusted": true
      },
      "execution_count": 27,
      "outputs": [],
      "id": "8eacc4b9-9355-4144-a3b8-7a7030fa571d"
    },
    {
      "cell_type": "code",
      "source": "emp",
      "metadata": {
        "trusted": true
      },
      "execution_count": 28,
      "outputs": [
        {
          "execution_count": 28,
          "output_type": "execute_result",
          "data": {
            "text/plain": "array([[3.49999991e-296, 0.00000000e+000, 2.12393135e-314,\n        0.00000000e+000, 0.00000000e+000, 0.00000000e+000],\n       [1.60065647e-299, 1.57180701e-316, 0.00000000e+000,\n        0.00000000e+000, 0.00000000e+000, 0.00000000e+000],\n       [0.00000000e+000, 0.00000000e+000, 0.00000000e+000,\n        0.00000000e+000, 0.00000000e+000, 0.00000000e+000],\n       [0.00000000e+000, 0.00000000e+000, 0.00000000e+000,\n        0.00000000e+000, 0.00000000e+000, 0.00000000e+000]])"
          },
          "metadata": {}
        }
      ],
      "id": "29baa6d1-2db9-490f-a8e4-f3453589da5c"
    },
    {
      "cell_type": "code",
      "source": "emp_like=np.empty_like(lnspace1)",
      "metadata": {
        "trusted": true
      },
      "execution_count": 31,
      "outputs": [],
      "id": "dbdcffad-c18a-4788-9d1d-f558b482d65a"
    },
    {
      "cell_type": "code",
      "source": "emp_like",
      "metadata": {
        "trusted": true
      },
      "execution_count": 32,
      "outputs": [
        {
          "execution_count": 32,
          "output_type": "execute_result",
          "data": {
            "text/plain": "array([3.49999991e-296, 2.12393135e-314, 1.60065647e-299, 1.57180701e-316])"
          },
          "metadata": {}
        }
      ],
      "id": "a3cdb4e6-0bad-4db7-b815-545819de4286"
    },
    {
      "cell_type": "code",
      "source": "ide=np.identity(5)",
      "metadata": {
        "trusted": true
      },
      "execution_count": 35,
      "outputs": [],
      "id": "303f396b-cf61-4d51-b21b-59b916051e4a"
    },
    {
      "cell_type": "code",
      "source": "ide",
      "metadata": {
        "trusted": true
      },
      "execution_count": 36,
      "outputs": [
        {
          "execution_count": 36,
          "output_type": "execute_result",
          "data": {
            "text/plain": "array([[1., 0., 0., 0., 0.],\n       [0., 1., 0., 0., 0.],\n       [0., 0., 1., 0., 0.],\n       [0., 0., 0., 1., 0.],\n       [0., 0., 0., 0., 1.]])"
          },
          "metadata": {}
        }
      ],
      "id": "55ee4378-0d30-46b5-9dd4-acf3442fcc0f"
    },
    {
      "cell_type": "code",
      "source": "ide.shape",
      "metadata": {
        "trusted": true
      },
      "execution_count": 37,
      "outputs": [
        {
          "execution_count": 37,
          "output_type": "execute_result",
          "data": {
            "text/plain": "(5, 5)"
          },
          "metadata": {}
        }
      ],
      "id": "caef38aa-c5fd-4f47-a67e-86fa468a7059"
    },
    {
      "cell_type": "code",
      "source": "arr=np.arange(30)",
      "metadata": {
        "trusted": true
      },
      "execution_count": 38,
      "outputs": [],
      "id": "399ebf48-092d-40bb-bdd2-1824b059c043"
    },
    {
      "cell_type": "code",
      "source": "arr",
      "metadata": {
        "trusted": true
      },
      "execution_count": 39,
      "outputs": [
        {
          "execution_count": 39,
          "output_type": "execute_result",
          "data": {
            "text/plain": "array([ 0,  1,  2,  3,  4,  5,  6,  7,  8,  9, 10, 11, 12, 13, 14, 15, 16,\n       17, 18, 19, 20, 21, 22, 23, 24, 25, 26, 27, 28, 29])"
          },
          "metadata": {}
        }
      ],
      "id": "a16f0063-c075-4991-9cd7-559b56459f12"
    },
    {
      "cell_type": "code",
      "source": "arr=arr.reshape(3,10)",
      "metadata": {
        "trusted": true
      },
      "execution_count": 40,
      "outputs": [],
      "id": "61f10523-e62a-4220-916d-4f67fd7e98ad"
    },
    {
      "cell_type": "code",
      "source": "arr",
      "metadata": {
        "trusted": true
      },
      "execution_count": 41,
      "outputs": [
        {
          "execution_count": 41,
          "output_type": "execute_result",
          "data": {
            "text/plain": "array([[ 0,  1,  2,  3,  4,  5,  6,  7,  8,  9],\n       [10, 11, 12, 13, 14, 15, 16, 17, 18, 19],\n       [20, 21, 22, 23, 24, 25, 26, 27, 28, 29]])"
          },
          "metadata": {}
        }
      ],
      "id": "d905c734-c089-4299-8be2-391f4eb6f271"
    },
    {
      "cell_type": "markdown",
      "source": "**NUMPY AXIS**",
      "metadata": {},
      "id": "ffb97a82-04ff-4b47-bfdd-c6d7889b222d"
    },
    {
      "cell_type": "code",
      "source": "x=[[1,2,3],[4,5,6],[7,1,0]]",
      "metadata": {
        "trusted": true
      },
      "execution_count": 53,
      "outputs": [],
      "id": "93254498-e18c-4863-a1d4-c4c1588e359b"
    },
    {
      "cell_type": "code",
      "source": "ar=np.array(x)",
      "metadata": {
        "trusted": true
      },
      "execution_count": 54,
      "outputs": [],
      "id": "6488ebfe-21c2-48b9-96a4-4757567718a7"
    },
    {
      "cell_type": "code",
      "source": "ar",
      "metadata": {
        "trusted": true
      },
      "execution_count": 55,
      "outputs": [
        {
          "execution_count": 55,
          "output_type": "execute_result",
          "data": {
            "text/plain": "array([[1, 2, 3],\n       [4, 5, 6],\n       [7, 1, 0]])"
          },
          "metadata": {}
        }
      ],
      "id": "5c9a3cfa-3079-4ed6-88ae-b84d04cc3712"
    },
    {
      "cell_type": "code",
      "source": "ar.sum(axis=0)",
      "metadata": {
        "trusted": true
      },
      "execution_count": 56,
      "outputs": [
        {
          "execution_count": 56,
          "output_type": "execute_result",
          "data": {
            "text/plain": "array([12,  8,  9])"
          },
          "metadata": {}
        }
      ],
      "id": "1ef038b8-3300-4fd3-854c-e6a2c5a3a332"
    },
    {
      "cell_type": "code",
      "source": "ar.sum(axis=1)",
      "metadata": {
        "trusted": true
      },
      "execution_count": 57,
      "outputs": [
        {
          "execution_count": 57,
          "output_type": "execute_result",
          "data": {
            "text/plain": "array([ 6, 15,  8])"
          },
          "metadata": {}
        }
      ],
      "id": "fe73c061-36ec-4bc3-afb6-1291b5987d74"
    },
    {
      "cell_type": "code",
      "source": "ar.T",
      "metadata": {
        "trusted": true
      },
      "execution_count": 58,
      "outputs": [
        {
          "execution_count": 58,
          "output_type": "execute_result",
          "data": {
            "text/plain": "array([[1, 4, 7],\n       [2, 5, 1],\n       [3, 6, 0]])"
          },
          "metadata": {}
        }
      ],
      "id": "c22b5a39-0e7e-4871-8015-26a92d7a699e"
    },
    {
      "cell_type": "code",
      "source": "ar.flat",
      "metadata": {
        "trusted": true
      },
      "execution_count": 59,
      "outputs": [
        {
          "execution_count": 59,
          "output_type": "execute_result",
          "data": {
            "text/plain": "<numpy.flatiter at 0x2e33970>"
          },
          "metadata": {}
        }
      ],
      "id": "dd186cb9-95af-4847-9790-9444e8050abe"
    },
    {
      "cell_type": "code",
      "source": "for item in ar.flat:\n    print(item)",
      "metadata": {
        "trusted": true
      },
      "execution_count": 60,
      "outputs": [
        {
          "name": "stdout",
          "text": "1\n2\n3\n4\n5\n6\n7\n1\n0\n",
          "output_type": "stream"
        }
      ],
      "id": "6d94d40e-af44-4877-a483-6046df22e20c"
    },
    {
      "cell_type": "code",
      "source": "ar.ndim",
      "metadata": {
        "trusted": true
      },
      "execution_count": 61,
      "outputs": [
        {
          "execution_count": 61,
          "output_type": "execute_result",
          "data": {
            "text/plain": "2"
          },
          "metadata": {}
        }
      ],
      "id": "529be8f6-7a03-41df-a729-bc76bb4a18dc"
    },
    {
      "cell_type": "code",
      "source": "ar.size",
      "metadata": {
        "trusted": true
      },
      "execution_count": 62,
      "outputs": [
        {
          "execution_count": 62,
          "output_type": "execute_result",
          "data": {
            "text/plain": "9"
          },
          "metadata": {}
        }
      ],
      "id": "04c38844-024e-448c-9067-d297418f3a6f"
    },
    {
      "cell_type": "code",
      "source": "ar.nbytes",
      "metadata": {
        "trusted": true
      },
      "execution_count": 63,
      "outputs": [
        {
          "execution_count": 63,
          "output_type": "execute_result",
          "data": {
            "text/plain": "36"
          },
          "metadata": {}
        }
      ],
      "id": "7f79f453-daa2-4884-8d7b-a37a6ad26f76"
    },
    {
      "cell_type": "code",
      "source": "one=np.array([1,2,3445,6])",
      "metadata": {
        "trusted": true
      },
      "execution_count": 64,
      "outputs": [],
      "id": "55e86357-bc63-48b3-b37e-88f1e4114c26"
    },
    {
      "cell_type": "code",
      "source": "one",
      "metadata": {
        "trusted": true
      },
      "execution_count": 65,
      "outputs": [
        {
          "execution_count": 65,
          "output_type": "execute_result",
          "data": {
            "text/plain": "array([   1,    2, 3445,    6])"
          },
          "metadata": {}
        }
      ],
      "id": "9654f3d4-3d34-40eb-86ad-66e47e54174e"
    },
    {
      "cell_type": "code",
      "source": "one.argmax()",
      "metadata": {
        "trusted": true
      },
      "execution_count": 66,
      "outputs": [
        {
          "execution_count": 66,
          "output_type": "execute_result",
          "data": {
            "text/plain": "2"
          },
          "metadata": {}
        }
      ],
      "id": "f16e9e30-96bf-4887-b1b6-26ea00f6cf81"
    },
    {
      "cell_type": "code",
      "source": "one.argmin()",
      "metadata": {
        "trusted": true
      },
      "execution_count": 67,
      "outputs": [
        {
          "execution_count": 67,
          "output_type": "execute_result",
          "data": {
            "text/plain": "0"
          },
          "metadata": {}
        }
      ],
      "id": "0d2b75f5-2abb-44e2-bd1d-122e42f2ae56"
    },
    {
      "cell_type": "code",
      "source": "one.argsort()",
      "metadata": {
        "trusted": true
      },
      "execution_count": 68,
      "outputs": [
        {
          "execution_count": 68,
          "output_type": "execute_result",
          "data": {
            "text/plain": "array([0, 1, 3, 2], dtype=int32)"
          },
          "metadata": {}
        }
      ],
      "id": "df82cba3-c040-4595-a265-52f1269f02bf"
    },
    {
      "cell_type": "code",
      "source": "ar",
      "metadata": {
        "trusted": true
      },
      "execution_count": 69,
      "outputs": [
        {
          "execution_count": 69,
          "output_type": "execute_result",
          "data": {
            "text/plain": "array([[1, 2, 3],\n       [4, 5, 6],\n       [7, 1, 0]])"
          },
          "metadata": {}
        }
      ],
      "id": "9e054c97-4888-40f4-b419-73858a1da61a"
    },
    {
      "cell_type": "code",
      "source": "ar.argmin()",
      "metadata": {
        "trusted": true
      },
      "execution_count": 70,
      "outputs": [
        {
          "execution_count": 70,
          "output_type": "execute_result",
          "data": {
            "text/plain": "8"
          },
          "metadata": {}
        }
      ],
      "id": "b2c5e0ac-71b5-4bb3-8bac-edbe4bc749f8"
    },
    {
      "cell_type": "code",
      "source": "ar.argmax()",
      "metadata": {
        "trusted": true
      },
      "execution_count": 71,
      "outputs": [
        {
          "execution_count": 71,
          "output_type": "execute_result",
          "data": {
            "text/plain": "6"
          },
          "metadata": {}
        }
      ],
      "id": "d4328ac1-b8d1-4538-9ac4-5624a322409f"
    },
    {
      "cell_type": "code",
      "source": "ar.argmax(axis=0)",
      "metadata": {
        "trusted": true
      },
      "execution_count": 72,
      "outputs": [
        {
          "execution_count": 72,
          "output_type": "execute_result",
          "data": {
            "text/plain": "array([2, 1, 1], dtype=int32)"
          },
          "metadata": {}
        }
      ],
      "id": "ecf9e40b-32d4-425a-8b87-d6bd809a5bea"
    },
    {
      "cell_type": "code",
      "source": "ar.argmax(axis=1)",
      "metadata": {
        "trusted": true
      },
      "execution_count": 73,
      "outputs": [
        {
          "execution_count": 73,
          "output_type": "execute_result",
          "data": {
            "text/plain": "array([2, 2, 0], dtype=int32)"
          },
          "metadata": {}
        }
      ],
      "id": "1ed554b0-bea1-48f6-b38d-1de23bd949a2"
    },
    {
      "cell_type": "code",
      "source": "ar.ravel()",
      "metadata": {
        "trusted": true
      },
      "execution_count": 74,
      "outputs": [
        {
          "execution_count": 74,
          "output_type": "execute_result",
          "data": {
            "text/plain": "array([1, 2, 3, 4, 5, 6, 7, 1, 0])"
          },
          "metadata": {}
        }
      ],
      "id": "79165a59-147f-4414-97f1-e15ff2d1d930"
    },
    {
      "cell_type": "code",
      "source": "ar.reshape((9,1))",
      "metadata": {
        "trusted": true
      },
      "execution_count": 75,
      "outputs": [
        {
          "execution_count": 75,
          "output_type": "execute_result",
          "data": {
            "text/plain": "array([[1],\n       [2],\n       [3],\n       [4],\n       [5],\n       [6],\n       [7],\n       [1],\n       [0]])"
          },
          "metadata": {}
        }
      ],
      "id": "f467a21d-f4c9-4d8b-b3ba-5fdfe6773982"
    },
    {
      "cell_type": "code",
      "source": "ar2=np.array([[1, 5, 3],\n       [4, 3, 6],\n       [7, 7, 0]])",
      "metadata": {
        "trusted": true
      },
      "execution_count": 76,
      "outputs": [],
      "id": "be6406b3-c532-4d9b-8cc0-144ec2af49a2"
    },
    {
      "cell_type": "code",
      "source": "ar2",
      "metadata": {
        "trusted": true
      },
      "execution_count": 77,
      "outputs": [
        {
          "execution_count": 77,
          "output_type": "execute_result",
          "data": {
            "text/plain": "array([[1, 5, 3],\n       [4, 3, 6],\n       [7, 7, 0]])"
          },
          "metadata": {}
        }
      ],
      "id": "d77ece7c-dd37-4bb6-8d34-849cd4f015c8"
    },
    {
      "cell_type": "code",
      "source": "ar+ar2",
      "metadata": {
        "trusted": true
      },
      "execution_count": 78,
      "outputs": [
        {
          "execution_count": 78,
          "output_type": "execute_result",
          "data": {
            "text/plain": "array([[ 2,  7,  6],\n       [ 8,  8, 12],\n       [14,  8,  0]])"
          },
          "metadata": {}
        }
      ],
      "id": "defe1d71-34a2-4ab4-b766-c1fa7a77aac8"
    },
    {
      "cell_type": "code",
      "source": "ar*ar2",
      "metadata": {
        "trusted": true
      },
      "execution_count": 79,
      "outputs": [
        {
          "execution_count": 79,
          "output_type": "execute_result",
          "data": {
            "text/plain": "array([[ 1, 10,  9],\n       [16, 15, 36],\n       [49,  7,  0]])"
          },
          "metadata": {}
        }
      ],
      "id": "f8ffe0c2-1113-4b19-bd16-426a75dcc87d"
    },
    {
      "cell_type": "code",
      "source": "np.sqrt(ar)",
      "metadata": {
        "trusted": true
      },
      "execution_count": 80,
      "outputs": [
        {
          "execution_count": 80,
          "output_type": "execute_result",
          "data": {
            "text/plain": "array([[1.        , 1.41421356, 1.73205081],\n       [2.        , 2.23606798, 2.44948974],\n       [2.64575131, 1.        , 0.        ]])"
          },
          "metadata": {}
        }
      ],
      "id": "b8f1207f-10ef-43ee-a755-c0a3d18761ac"
    },
    {
      "cell_type": "code",
      "source": "ar2.sum()",
      "metadata": {
        "trusted": true
      },
      "execution_count": 82,
      "outputs": [
        {
          "execution_count": 82,
          "output_type": "execute_result",
          "data": {
            "text/plain": "36"
          },
          "metadata": {}
        }
      ],
      "id": "5eeb14a1-ea5f-4154-b3cf-2b2fd0f36f4a"
    },
    {
      "cell_type": "code",
      "source": "ar2.max()",
      "metadata": {
        "trusted": true
      },
      "execution_count": 83,
      "outputs": [
        {
          "execution_count": 83,
          "output_type": "execute_result",
          "data": {
            "text/plain": "7"
          },
          "metadata": {}
        }
      ],
      "id": "f5d1b8a7-b62d-4aac-b6a1-0c4e8dbd3796"
    },
    {
      "cell_type": "code",
      "source": "ar",
      "metadata": {
        "trusted": true
      },
      "execution_count": 84,
      "outputs": [
        {
          "execution_count": 84,
          "output_type": "execute_result",
          "data": {
            "text/plain": "array([[1, 2, 3],\n       [4, 5, 6],\n       [7, 1, 0]])"
          },
          "metadata": {}
        }
      ],
      "id": "33b2a688-d054-401a-8915-ac90e4b87f81"
    },
    {
      "cell_type": "code",
      "source": "np.where(ar>5)",
      "metadata": {
        "trusted": true
      },
      "execution_count": 85,
      "outputs": [
        {
          "execution_count": 85,
          "output_type": "execute_result",
          "data": {
            "text/plain": "(array([1, 2], dtype=int32), array([2, 0], dtype=int32))"
          },
          "metadata": {}
        }
      ],
      "id": "2449c9b2-4b67-419f-b250-33c1476cea0c"
    },
    {
      "cell_type": "code",
      "source": "type(np.where(ar>5))",
      "metadata": {
        "trusted": true
      },
      "execution_count": 86,
      "outputs": [
        {
          "execution_count": 86,
          "output_type": "execute_result",
          "data": {
            "text/plain": "tuple"
          },
          "metadata": {}
        }
      ],
      "id": "ff641cec-f85c-4ad3-a69e-b5a5c25bcbd9"
    },
    {
      "cell_type": "code",
      "source": "np.count_nonzero(ar)",
      "metadata": {
        "trusted": true
      },
      "execution_count": 87,
      "outputs": [
        {
          "execution_count": 87,
          "output_type": "execute_result",
          "data": {
            "text/plain": "8"
          },
          "metadata": {}
        }
      ],
      "id": "b20e73ec-1356-435d-a58b-e3144eb82a90"
    },
    {
      "cell_type": "code",
      "source": "np.nonzero(ar)",
      "metadata": {
        "trusted": true
      },
      "execution_count": 88,
      "outputs": [
        {
          "execution_count": 88,
          "output_type": "execute_result",
          "data": {
            "text/plain": "(array([0, 0, 0, 1, 1, 1, 2, 2], dtype=int32),\n array([0, 1, 2, 0, 1, 2, 0, 1], dtype=int32))"
          },
          "metadata": {}
        }
      ],
      "id": "53efefc6-ba4c-4c1a-a5d2-427db2b61d9e"
    },
    {
      "cell_type": "code",
      "source": "ar[1,2]=0",
      "metadata": {
        "trusted": true
      },
      "execution_count": 89,
      "outputs": [],
      "id": "f45d2328-d7cd-4ca5-b211-753904933462"
    },
    {
      "cell_type": "code",
      "source": "np.nonzero(ar)",
      "metadata": {
        "trusted": true
      },
      "execution_count": 90,
      "outputs": [
        {
          "execution_count": 90,
          "output_type": "execute_result",
          "data": {
            "text/plain": "(array([0, 0, 0, 1, 1, 2, 2], dtype=int32),\n array([0, 1, 2, 0, 1, 0, 1], dtype=int32))"
          },
          "metadata": {}
        }
      ],
      "id": "3a364255-f5d9-4608-a3f6-2d95769c533f"
    },
    {
      "cell_type": "markdown",
      "source": "**how to check space of numpy**",
      "metadata": {},
      "id": "ab3f1295-2a77-4117-a855-25f45e71a2e0"
    },
    {
      "cell_type": "code",
      "source": "import sys",
      "metadata": {
        "trusted": true
      },
      "execution_count": 91,
      "outputs": [],
      "id": "7b1a4823-1819-46ab-be31-dac21af132db"
    },
    {
      "cell_type": "code",
      "source": "py_ar=[0,4,55,6]",
      "metadata": {
        "trusted": true
      },
      "execution_count": 92,
      "outputs": [],
      "id": "c67ec53a-630e-4247-9e8e-d696958ab699"
    },
    {
      "cell_type": "code",
      "source": "np_ar=np.array(py_ar)",
      "metadata": {
        "trusted": true
      },
      "execution_count": 93,
      "outputs": [],
      "id": "1dbb6942-5d66-4cd3-a765-a10cd387710d"
    },
    {
      "cell_type": "code",
      "source": "sys.getsizeof(1)*len(py_ar)",
      "metadata": {
        "trusted": true
      },
      "execution_count": 94,
      "outputs": [
        {
          "execution_count": 94,
          "output_type": "execute_result",
          "data": {
            "text/plain": "64"
          },
          "metadata": {}
        }
      ],
      "id": "7002a356-0f99-46b2-9b41-c998dbc6fbba"
    },
    {
      "cell_type": "code",
      "source": "np_ar.itemsize*np_ar.size",
      "metadata": {
        "trusted": true
      },
      "execution_count": 95,
      "outputs": [
        {
          "execution_count": 95,
          "output_type": "execute_result",
          "data": {
            "text/plain": "16"
          },
          "metadata": {}
        }
      ],
      "id": "666f9150-c7cb-474d-a164-829698aa740a"
    },
    {
      "cell_type": "code",
      "source": "np_ar.tolist()",
      "metadata": {
        "trusted": true
      },
      "execution_count": 96,
      "outputs": [
        {
          "execution_count": 96,
          "output_type": "execute_result",
          "data": {
            "text/plain": "[0, 4, 55, 6]"
          },
          "metadata": {}
        }
      ],
      "id": "94e6373d-2d73-4ffa-859a-f07bd21f8877"
    },
    {
      "cell_type": "code",
      "source": "",
      "metadata": {},
      "execution_count": null,
      "outputs": [],
      "id": "577c18d4-36c8-4e91-99a7-9669a067c3f4"
    }
  ]
}